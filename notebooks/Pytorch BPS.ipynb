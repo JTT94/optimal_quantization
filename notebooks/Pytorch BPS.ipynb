{
 "cells": [
  {
   "cell_type": "code",
   "execution_count": 14,
   "metadata": {},
   "outputs": [],
   "source": [
    "import torch\n",
    "from torch.autograd import grad\n",
    "import numpy as np"
   ]
  },
  {
   "cell_type": "code",
   "execution_count": 3,
   "metadata": {},
   "outputs": [],
   "source": [
    "def potential(x):\n",
    "    return torch.sum(x**2)"
   ]
  },
  {
   "cell_type": "code",
   "execution_count": null,
   "metadata": {},
   "outputs": [],
   "source": [
    "x = torch.tensor(np.array([1.,2.]))"
   ]
  },
  {
   "cell_type": "code",
   "execution_count": 28,
   "metadata": {},
   "outputs": [],
   "source": [
    "for _ in range(1000):\n",
    "    torch.set_grad_enabled(True)\n",
    "    grad_vec = grad(potential(x),x.requires_grad_())[0]\n",
    "    torch.set_grad_enabled(False)\n",
    "    x.add_(x)\n",
    "    grad_vec.dot(grad_vec)"
   ]
  },
  {
   "cell_type": "code",
   "execution_count": 26,
   "metadata": {},
   "outputs": [
    {
     "data": {
      "text/plain": [
       "tensor([2.1430e+301, 4.2860e+301], dtype=torch.float64)"
      ]
     },
     "execution_count": 26,
     "metadata": {},
     "output_type": "execute_result"
    }
   ],
   "source": [
    "grad_vec[0]"
   ]
  },
  {
   "cell_type": "code",
   "execution_count": 23,
   "metadata": {},
   "outputs": [
    {
     "data": {
      "text/plain": [
       "(tensor([1.0715e+301, 2.1430e+301], dtype=torch.float64),)"
      ]
     },
     "execution_count": 23,
     "metadata": {},
     "output_type": "execute_result"
    }
   ],
   "source": [
    "grad_vec"
   ]
  },
  {
   "cell_type": "code",
   "execution_count": 32,
   "metadata": {},
   "outputs": [],
   "source": [
    "import torch\n",
    "import numpy as np\n",
    "from torch.autograd import grad"
   ]
  },
  {
   "cell_type": "code",
   "execution_count": 64,
   "metadata": {},
   "outputs": [],
   "source": [
    "def compute_grad(fn, x):\n",
    "    torch.set_grad_enabled(True)\n",
    "    computed_grad = grad(fn(x),x)[0]\n",
    "    torch.set_grad_enabled(False)\n",
    "    return computed_grad"
   ]
  },
  {
   "cell_type": "code",
   "execution_count": 80,
   "metadata": {},
   "outputs": [],
   "source": [
    "class BPS(object):\n",
    "\n",
    "    def __init__(self, x, v, potential_fn, bounce_fn):\n",
    "        super(BPS, self).__init__()\n",
    "        self.dim = len(x)\n",
    "        self.x = torch.tensor(x, requires_grad=True, dtype=torch.float)\n",
    "        self.v = torch.tensor(v, dtype=torch.float)\n",
    "\n",
    "        self.potential_fn = potential_fn\n",
    "        self.bounce_fn = bounce_fn\n",
    "\n",
    "    def propagate_state(self, t):\n",
    "        self.x = self.x.detach() + (self.v * t)\n",
    "\n",
    "    def simulate_new_event(self):\n",
    "        return self.bounce_fn(self.x, self.v)\n",
    "\n",
    "    def event_transition(self):\n",
    "        xnew = self.x\n",
    "        potential_grad = compute_grad(self.potential_fn, self.x.requires_grad_())\n",
    "        \n",
    "        self.v = self.v - 2*potential_grad.dot(self.v) * potential_grad / potential_grad.dot(potential_grad)\n",
    "\n",
    "    def get_state(self):\n",
    "        return self.x.detach().numpy(), self.v.detach().numpy()\n",
    "\n",
    "    def run(self, num_iterations):\n",
    "        results = []\n",
    "        for i in range(num_iterations):\n",
    "            new_t = self.simulate_new_event()\n",
    "            self.propagate_state(new_t)\n",
    "            self.event_transition()\n",
    "            results.append(self.get_state())\n",
    "        return results\n",
    "\n",
    "\n",
    "def gaussian_bounce(mu, Sig):\n",
    "    inv_Sig = torch.inverse(Sig)\n",
    "    unif_dist = torch.distributions.Uniform(0,1)\n",
    "    def func(x, v):\n",
    "\n",
    "        epsilon = unif_dist.sample()\n",
    "        vv = 0.5 * torch.matmul(v.unsqueeze(-1).T, torch.matmul(inv_Sig, v.unsqueeze(-1)))\n",
    "        xv = 0.5 * torch.matmul(v.unsqueeze(-1).T, torch.matmul(inv_Sig, (x - mu).unsqueeze(-1)))\n",
    "        if xv < 0:\n",
    "            return ((-xv + torch.sqrt(-vv * torch.log(epsilon))) / vv).squeeze()\n",
    "        else:\n",
    "            return ((-xv + torch.sqrt(xv ** 2 - vv * torch.log(epsilon))) / vv).squeeze()\n",
    "\n",
    "    return func\n",
    "\n",
    "\n",
    "\n",
    "dim = 1000\n",
    "Sig = torch.tensor(np.diag(np.ones(dim)), dtype=torch.float)\n",
    "mu = torch.tensor(np.zeros(dim), dtype=torch.float)\n",
    "\n",
    "x = np.random.random(dim)\n",
    "v = np.random.random(dim)\n",
    "\n",
    "potential_fn = lambda x: torch.sum(x ** 2)\n",
    "bounce_fn = gaussian_bounce(mu, Sig)\n",
    "\n",
    "bps = BPS(x, v, potential_fn, bounce_fn)"
   ]
  },
  {
   "cell_type": "code",
   "execution_count": 81,
   "metadata": {},
   "outputs": [
    {
     "name": "stdout",
     "output_type": "stream",
     "text": [
      "1.35 ms ± 109 µs per loop (mean ± std. dev. of 7 runs, 1000 loops each)\n"
     ]
    }
   ],
   "source": [
    "%%timeit \n",
    "bps.run(1)"
   ]
  },
  {
   "cell_type": "code",
   "execution_count": 63,
   "metadata": {},
   "outputs": [
    {
     "data": {
      "text/plain": [
       "tensor([-0.2042, -1.3123])"
      ]
     },
     "execution_count": 63,
     "metadata": {},
     "output_type": "execute_result"
    }
   ],
   "source": [
    "bps.x"
   ]
  }
 ],
 "metadata": {
  "kernelspec": {
   "display_name": "Python 3",
   "language": "python",
   "name": "python3"
  },
  "language_info": {
   "codemirror_mode": {
    "name": "ipython",
    "version": 3
   },
   "file_extension": ".py",
   "mimetype": "text/x-python",
   "name": "python",
   "nbconvert_exporter": "python",
   "pygments_lexer": "ipython3",
   "version": "3.6.7"
  }
 },
 "nbformat": 4,
 "nbformat_minor": 2
}
