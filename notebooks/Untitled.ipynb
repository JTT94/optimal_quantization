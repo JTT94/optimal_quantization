{
 "cells": [
  {
   "cell_type": "code",
   "execution_count": 1,
   "metadata": {},
   "outputs": [],
   "source": [
    "import torch\n",
    "import torch.nn as nn\n",
    "import torchvision.transforms as transforms\n",
    "import torchvision.datasets as dsets\n",
    "import torch.distributions as dist\n",
    "import numpy as np\n",
    "import matplotlib.pyplot as plt\n",
    "import matplotlib.cm as cm\n",
    "import os, sys\n",
    "\n",
    "\n",
    "# Set seed\n",
    "torch.manual_seed(0)\n",
    "from torch.optim.lr_scheduler import StepLR\n",
    "\n",
    "sys.path.append(\"..\")\n",
    "\n",
    "from src.utils import uniform_weights\n",
    "from src.ground_cost import l2_cost2, l2_cost, batch_l2_cost2\n",
    "from src.discrete_entropic_reg import (soft_c_transform, \n",
    "                                       soft_exponential_cost, \n",
    "                                       normalised_soft_exponential_cost, \n",
    "                                       stochastic_dual_approx)"
   ]
  },
  {
   "cell_type": "code",
   "execution_count": 2,
   "metadata": {},
   "outputs": [],
   "source": [
    "from src.trainer import Trainer\n",
    "from src.quantizer import Quantizer\n",
    "from src.schedulers import scheduler_constructor"
   ]
  },
  {
   "cell_type": "code",
   "execution_count": 3,
   "metadata": {},
   "outputs": [],
   "source": [
    "def scheduler_constructor(gamma):\n",
    "    return lambda optimizer: StepLR(optimizer, step_size=1, gamma=gamma)"
   ]
  },
  {
   "cell_type": "code",
   "execution_count": 12,
   "metadata": {},
   "outputs": [],
   "source": [
    "num_atoms = 100\n",
    "dim = 2\n",
    "init_g = np.random.random(size = (num_atoms))\n",
    "init_ys = np.random.random(size = (num_atoms, dim))\n",
    "epsilon = 0.01"
   ]
  },
  {
   "cell_type": "code",
   "execution_count": 13,
   "metadata": {},
   "outputs": [],
   "source": [
    "quantizer_obj = Quantizer(init_g, init_ys, epsilon, ground_cost=batch_l2_cost2)"
   ]
  },
  {
   "cell_type": "code",
   "execution_count": 14,
   "metadata": {},
   "outputs": [],
   "source": [
    "alpha_dist = dist.Uniform(torch.tensor(np.repeat(0., dim)), torch.tensor(np.repeat(1., dim)))\n"
   ]
  },
  {
   "cell_type": "code",
   "execution_count": 15,
   "metadata": {},
   "outputs": [],
   "source": [
    "# optimizers\n",
    "learning_rate = 0.1\n",
    "optimizer_atoms = torch.optim.ASGD([quantizer_obj.ys], lr=learning_rate)\n",
    "optimizer_map = torch.optim.ASGD([quantizer_obj.g], lr=learning_rate)"
   ]
  },
  {
   "cell_type": "code",
   "execution_count": 16,
   "metadata": {},
   "outputs": [],
   "source": [
    "trainer = Trainer(alpha_dist, \n",
    "                  quantizer_obj, \n",
    "                  optimizer_map, \n",
    "                  optimizer_atoms, \n",
    "                  map_scheduler_func = scheduler_constructor(0.8), \n",
    "                  atoms_scheduler_func=scheduler_constructor(0.8))"
   ]
  },
  {
   "cell_type": "code",
   "execution_count": 17,
   "metadata": {},
   "outputs": [],
   "source": [
    "trainer.train(n_iters=10000, batch_size=1, n_sub_iters_atoms=10, n_sub_iters_map=10, lr_steps=100)"
   ]
  },
  {
   "cell_type": "code",
   "execution_count": 18,
   "metadata": {},
   "outputs": [
    {
     "data": {
      "image/png": "[encoded data removed]",
      "text/plain": [
       "<Figure size 432x288 with 1 Axes>"
      ]
     },
     "metadata": {
      "needs_background": "light"
     },
     "output_type": "display_data"
    }
   ],
   "source": [
    "\n",
    "y_plot = init_ys\n",
    "plt.plot(y_plot[:,0], y_plot[:,1], \"ro\")\n",
    "plt.xlim(0,1)\n",
    "plt.ylim(0,1)\n",
    "plt.show()"
   ]
  },
  {
   "cell_type": "code",
   "execution_count": 19,
   "metadata": {},
   "outputs": [
    {
     "data": {
      "image/png": "[encoded data removed]",
      "text/plain": [
       "<Figure size 432x288 with 1 Axes>"
      ]
     },
     "metadata": {
      "needs_background": "light"
     },
     "output_type": "display_data"
    }
   ],
   "source": [
    "ys = trainer.quantizer.ys\n",
    "y_plot = ys.detach().numpy()\n",
    "plt.plot(y_plot[:,0], y_plot[:,1], \"ro\")\n",
    "plt.xlim(0,1)\n",
    "plt.ylim(0,1)\n",
    "plt.show()"
   ]
  }
 ],
 "metadata": {
  "kernelspec": {
   "display_name": "Python 3",
   "language": "python",
   "name": "python3"
  },
  "language_info": {
   "codemirror_mode": {
    "name": "ipython",
    "version": 3
   },
   "file_extension": ".py",
   "mimetype": "text/x-python",
   "name": "python",
   "nbconvert_exporter": "python",
   "pygments_lexer": "ipython3",
   "version": "3.7.4"
  }
 },
 "nbformat": 4,
 "nbformat_minor": 2
}
